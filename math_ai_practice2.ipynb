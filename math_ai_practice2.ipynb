{
  "metadata": {
    "kernelspec": {
      "language": "python",
      "display_name": "Python 3",
      "name": "python3"
    },
    "language_info": {
      "name": "python",
      "version": "3.10.13",
      "mimetype": "text/x-python",
      "codemirror_mode": {
        "name": "ipython",
        "version": 3
      },
      "pygments_lexer": "ipython3",
      "nbconvert_exporter": "python",
      "file_extension": ".py"
    },
    "kaggle": {
      "accelerator": "none",
      "dataSources": [
        {
          "sourceId": 8009768,
          "sourceType": "datasetVersion",
          "datasetId": 4717827
        }
      ],
      "dockerImageVersionId": 30732,
      "isInternetEnabled": true,
      "language": "python",
      "sourceType": "notebook",
      "isGpuEnabled": false
    },
    "colab": {
      "provenance": []
    }
  },
  "nbformat_minor": 0,
  "nbformat": 4,
  "cells": [
    {
      "cell_type": "code",
      "source": [
        "import numpy as np\n",
        "import pandas as pd\n",
        "import os\n",
        "for dirname, _, filenames in os.walk('/kaggle/input'):\n",
        "    for filename in filenames:\n",
        "        print(os.path.join(dirname, filename))\n"
      ],
      "metadata": {
        "_uuid": "8f2839f25d086af736a60e9eeb907d3b93b6e0e5",
        "_cell_guid": "b1076dfc-b9ad-4769-8c92-a6c4dae69d19",
        "execution": {
          "iopub.status.busy": "2024-06-15T03:54:21.078499Z",
          "iopub.execute_input": "2024-06-15T03:54:21.078918Z",
          "iopub.status.idle": "2024-06-15T03:54:22.204720Z",
          "shell.execute_reply.started": "2024-06-15T03:54:21.078883Z",
          "shell.execute_reply": "2024-06-15T03:54:22.203255Z"
        },
        "trusted": true,
        "id": "oQsRNkVDFjfd",
        "outputId": "892e6a3c-fd4e-41ad-ca85-2328785caff7"
      },
      "outputs": [
        {
          "name": "stdout",
          "text": "/kaggle/input/math-qsa-dataset/train.csv\n/kaggle/input/math-qsa-dataset/test.csv\n",
          "output_type": "stream"
        }
      ],
      "execution_count": null
    },
    {
      "cell_type": "markdown",
      "source": [
        "## Datasets\n"
      ],
      "metadata": {
        "id": "Ql_UxdC8FjgS"
      }
    },
    {
      "cell_type": "code",
      "source": [
        "train = pd.read_csv('/kaggle/input/math-qsa-dataset/train.csv')\n",
        "test = pd.read_csv('/kaggle/input/math-qsa-dataset/test.csv')"
      ],
      "metadata": {
        "execution": {
          "iopub.status.busy": "2024-06-15T03:54:22.207134Z",
          "iopub.execute_input": "2024-06-15T03:54:22.207766Z",
          "iopub.status.idle": "2024-06-15T03:54:22.488420Z",
          "shell.execute_reply.started": "2024-06-15T03:54:22.207725Z",
          "shell.execute_reply": "2024-06-15T03:54:22.487107Z"
        },
        "trusted": true,
        "id": "y0CF5ZEpFjgb"
      },
      "outputs": [],
      "execution_count": null
    },
    {
      "cell_type": "code",
      "source": [
        "train.head()"
      ],
      "metadata": {
        "execution": {
          "iopub.status.busy": "2024-06-15T03:54:22.530020Z",
          "iopub.execute_input": "2024-06-15T03:54:22.531258Z",
          "iopub.status.idle": "2024-06-15T03:54:22.560305Z",
          "shell.execute_reply.started": "2024-06-15T03:54:22.531210Z",
          "shell.execute_reply": "2024-06-15T03:54:22.559023Z"
        },
        "trusted": true,
        "id": "A3gMngD7Fjgc",
        "outputId": "52ef9c39-c48e-4370-c474-17c73b0b8da3"
      },
      "outputs": [
        {
          "execution_count": 4,
          "output_type": "execute_result",
          "data": {
            "text/plain": "                                             problem    level        type  \\\n0  The United States Postal Service charges an ex...  Level 3  Prealgebra   \n1  How many integers between 1000 and 2000 have a...  Level 4  Prealgebra   \n2  Given that $n$ is an integer and $0 < 4n <30$,...  Level 2  Prealgebra   \n3  How many integers between $100$ and $150$ have...  Level 4  Prealgebra   \n4  Regular pentagon $ABCDE$ and regular hexagon $...  Level 4  Prealgebra   \n\n                                            solution answer  \n0  We calculate the desired ratio for each envelo...      3  \n1  A number with 15, 20 and 25 as factors must be...      3  \n2  Dividing by $4$, we have $0<n<7\\frac{1}{2}$. T...     28  \n3  We will break up the problem into cases based ...     18  \n4  We know that the sum of the degree measures of...    132  ",
            "text/html": "<div>\n<style scoped>\n    .dataframe tbody tr th:only-of-type {\n        vertical-align: middle;\n    }\n\n    .dataframe tbody tr th {\n        vertical-align: top;\n    }\n\n    .dataframe thead th {\n        text-align: right;\n    }\n</style>\n<table border=\"1\" class=\"dataframe\">\n  <thead>\n    <tr style=\"text-align: right;\">\n      <th></th>\n      <th>problem</th>\n      <th>level</th>\n      <th>type</th>\n      <th>solution</th>\n      <th>answer</th>\n    </tr>\n  </thead>\n  <tbody>\n    <tr>\n      <th>0</th>\n      <td>The United States Postal Service charges an ex...</td>\n      <td>Level 3</td>\n      <td>Prealgebra</td>\n      <td>We calculate the desired ratio for each envelo...</td>\n      <td>3</td>\n    </tr>\n    <tr>\n      <th>1</th>\n      <td>How many integers between 1000 and 2000 have a...</td>\n      <td>Level 4</td>\n      <td>Prealgebra</td>\n      <td>A number with 15, 20 and 25 as factors must be...</td>\n      <td>3</td>\n    </tr>\n    <tr>\n      <th>2</th>\n      <td>Given that $n$ is an integer and $0 &lt; 4n &lt;30$,...</td>\n      <td>Level 2</td>\n      <td>Prealgebra</td>\n      <td>Dividing by $4$, we have $0&lt;n&lt;7\\frac{1}{2}$. T...</td>\n      <td>28</td>\n    </tr>\n    <tr>\n      <th>3</th>\n      <td>How many integers between $100$ and $150$ have...</td>\n      <td>Level 4</td>\n      <td>Prealgebra</td>\n      <td>We will break up the problem into cases based ...</td>\n      <td>18</td>\n    </tr>\n    <tr>\n      <th>4</th>\n      <td>Regular pentagon $ABCDE$ and regular hexagon $...</td>\n      <td>Level 4</td>\n      <td>Prealgebra</td>\n      <td>We know that the sum of the degree measures of...</td>\n      <td>132</td>\n    </tr>\n  </tbody>\n</table>\n</div>"
          },
          "metadata": {}
        }
      ],
      "execution_count": null
    },
    {
      "cell_type": "code",
      "source": [
        "test.head()"
      ],
      "metadata": {
        "execution": {
          "iopub.status.busy": "2024-06-15T03:54:25.032399Z",
          "iopub.execute_input": "2024-06-15T03:54:25.032810Z",
          "iopub.status.idle": "2024-06-15T03:54:25.046060Z",
          "shell.execute_reply.started": "2024-06-15T03:54:25.032768Z",
          "shell.execute_reply": "2024-06-15T03:54:25.044810Z"
        },
        "trusted": true,
        "id": "dxQkzZKKFjgd",
        "outputId": "bf6a76e5-f3f8-464e-8070-c1c913da2a06"
      },
      "outputs": [
        {
          "execution_count": 5,
          "output_type": "execute_result",
          "data": {
            "text/plain": "                                             problem    level        type  \\\n0  How many four-digit integers are less than 800...  Level 3  Prealgebra   \n1  What is the value of $$\\left( \\sqrt{100} - \\sq...  Level 2  Prealgebra   \n2  Each good worker can paint my new house alone ...  Level 5  Prealgebra   \n3  At the national curling championships, there a...  Level 5  Prealgebra   \n4  What is the least positive integer value of $x...  Level 2  Prealgebra   \n\n                                            solution answer  \n0  We must count the numbers in the list \\[2001, ...   5999  \n1  Calculating, $(\\sqrt{100}-\\sqrt{36})^2 = (10-6...     16  \n2  Each good worker can paint $1/12$ of my house ...      3  \n3  For each participant, there are 8 opponents to...    162  \n4  We isolate $x$ by subtracting $2x$ from each s...      2  ",
            "text/html": "<div>\n<style scoped>\n    .dataframe tbody tr th:only-of-type {\n        vertical-align: middle;\n    }\n\n    .dataframe tbody tr th {\n        vertical-align: top;\n    }\n\n    .dataframe thead th {\n        text-align: right;\n    }\n</style>\n<table border=\"1\" class=\"dataframe\">\n  <thead>\n    <tr style=\"text-align: right;\">\n      <th></th>\n      <th>problem</th>\n      <th>level</th>\n      <th>type</th>\n      <th>solution</th>\n      <th>answer</th>\n    </tr>\n  </thead>\n  <tbody>\n    <tr>\n      <th>0</th>\n      <td>How many four-digit integers are less than 800...</td>\n      <td>Level 3</td>\n      <td>Prealgebra</td>\n      <td>We must count the numbers in the list \\[2001, ...</td>\n      <td>5999</td>\n    </tr>\n    <tr>\n      <th>1</th>\n      <td>What is the value of $$\\left( \\sqrt{100} - \\sq...</td>\n      <td>Level 2</td>\n      <td>Prealgebra</td>\n      <td>Calculating, $(\\sqrt{100}-\\sqrt{36})^2 = (10-6...</td>\n      <td>16</td>\n    </tr>\n    <tr>\n      <th>2</th>\n      <td>Each good worker can paint my new house alone ...</td>\n      <td>Level 5</td>\n      <td>Prealgebra</td>\n      <td>Each good worker can paint $1/12$ of my house ...</td>\n      <td>3</td>\n    </tr>\n    <tr>\n      <th>3</th>\n      <td>At the national curling championships, there a...</td>\n      <td>Level 5</td>\n      <td>Prealgebra</td>\n      <td>For each participant, there are 8 opponents to...</td>\n      <td>162</td>\n    </tr>\n    <tr>\n      <th>4</th>\n      <td>What is the least positive integer value of $x...</td>\n      <td>Level 2</td>\n      <td>Prealgebra</td>\n      <td>We isolate $x$ by subtracting $2x$ from each s...</td>\n      <td>2</td>\n    </tr>\n  </tbody>\n</table>\n</div>"
          },
          "metadata": {}
        }
      ],
      "execution_count": null
    },
    {
      "cell_type": "markdown",
      "source": [
        "## Models"
      ],
      "metadata": {
        "id": "zcCwuRHRFjgf"
      }
    },
    {
      "cell_type": "code",
      "source": [
        "from tqdm.notebook import tqdm\n",
        "tqdm.pandas() # progress bar for pandas\n",
        "\n",
        "import keras\n",
        "import keras_nlp\n",
        "\n",
        "import plotly.graph_objs as go\n",
        "import plotly.express as px\n",
        "from IPython.display import display, Markdown\n",
        "\n",
        "from transformers import GemmaModel, GemmaConfig, GemmaForCausalLM, FlaxGemmaForCausalLM, AutoTokenizer, AutoModelForCausalLM"
      ],
      "metadata": {
        "id": "_e6aOJm8Fjgg"
      },
      "outputs": [],
      "execution_count": null
    },
    {
      "cell_type": "code",
      "source": [
        "pip install -U transformers datasets accelerate peft trl bitsandbytes wandb"
      ],
      "metadata": {
        "execution": {
          "iopub.status.busy": "2024-06-15T03:54:27.698950Z",
          "iopub.execute_input": "2024-06-15T03:54:27.699934Z",
          "iopub.status.idle": "2024-06-15T03:54:43.120279Z",
          "shell.execute_reply.started": "2024-06-15T03:54:27.699898Z",
          "shell.execute_reply": "2024-06-15T03:54:43.118652Z"
        },
        "trusted": true,
        "id": "pYcjjSLcFjgi",
        "outputId": "c90d4ce2-9065-40cd-fde8-8664f214273d"
      },
      "outputs": [
        {
          "name": "stdout",
          "text": "Requirement already satisfied: transformers in /opt/conda/lib/python3.10/site-packages (4.41.2)\nRequirement already satisfied: datasets in /opt/conda/lib/python3.10/site-packages (2.20.0)\nRequirement already satisfied: accelerate in /opt/conda/lib/python3.10/site-packages (0.31.0)\nRequirement already satisfied: peft in /opt/conda/lib/python3.10/site-packages (0.11.1)\nRequirement already satisfied: trl in /opt/conda/lib/python3.10/site-packages (0.9.4)\nRequirement already satisfied: bitsandbytes in /opt/conda/lib/python3.10/site-packages (0.43.1)\nRequirement already satisfied: wandb in /opt/conda/lib/python3.10/site-packages (0.17.1)\nRequirement already satisfied: filelock in /opt/conda/lib/python3.10/site-packages (from transformers) (3.13.1)\nRequirement already satisfied: huggingface-hub<1.0,>=0.23.0 in /opt/conda/lib/python3.10/site-packages (from transformers) (0.23.2)\nRequirement already satisfied: numpy>=1.17 in /opt/conda/lib/python3.10/site-packages (from transformers) (1.26.4)\nRequirement already satisfied: packaging>=20.0 in /opt/conda/lib/python3.10/site-packages (from transformers) (21.3)\nRequirement already satisfied: pyyaml>=5.1 in /opt/conda/lib/python3.10/site-packages (from transformers) (6.0.1)\nRequirement already satisfied: regex!=2019.12.17 in /opt/conda/lib/python3.10/site-packages (from transformers) (2023.12.25)\nRequirement already satisfied: requests in /opt/conda/lib/python3.10/site-packages (from transformers) (2.32.3)\nRequirement already satisfied: tokenizers<0.20,>=0.19 in /opt/conda/lib/python3.10/site-packages (from transformers) (0.19.1)\nRequirement already satisfied: safetensors>=0.4.1 in /opt/conda/lib/python3.10/site-packages (from transformers) (0.4.3)\nRequirement already satisfied: tqdm>=4.27 in /opt/conda/lib/python3.10/site-packages (from transformers) (4.66.4)\nRequirement already satisfied: pyarrow>=15.0.0 in /opt/conda/lib/python3.10/site-packages (from datasets) (16.1.0)\nRequirement already satisfied: pyarrow-hotfix in /opt/conda/lib/python3.10/site-packages (from datasets) (0.6)\nRequirement already satisfied: dill<0.3.9,>=0.3.0 in /opt/conda/lib/python3.10/site-packages (from datasets) (0.3.8)\nRequirement already satisfied: pandas in /opt/conda/lib/python3.10/site-packages (from datasets) (2.2.2)\nRequirement already satisfied: xxhash in /opt/conda/lib/python3.10/site-packages (from datasets) (3.4.1)\nRequirement already satisfied: multiprocess in /opt/conda/lib/python3.10/site-packages (from datasets) (0.70.16)\nRequirement already satisfied: fsspec<=2024.5.0,>=2023.1.0 in /opt/conda/lib/python3.10/site-packages (from fsspec[http]<=2024.5.0,>=2023.1.0->datasets) (2024.3.1)\nRequirement already satisfied: aiohttp in /opt/conda/lib/python3.10/site-packages (from datasets) (3.9.1)\nRequirement already satisfied: psutil in /opt/conda/lib/python3.10/site-packages (from accelerate) (5.9.3)\nRequirement already satisfied: torch>=1.10.0 in /opt/conda/lib/python3.10/site-packages (from accelerate) (2.1.2+cpu)\nRequirement already satisfied: tyro>=0.5.11 in /opt/conda/lib/python3.10/site-packages (from trl) (0.8.4)\nRequirement already satisfied: click!=8.0.0,>=7.1 in /opt/conda/lib/python3.10/site-packages (from wandb) (8.1.7)\nRequirement already satisfied: docker-pycreds>=0.4.0 in /opt/conda/lib/python3.10/site-packages (from wandb) (0.4.0)\nRequirement already satisfied: gitpython!=3.1.29,>=1.0.0 in /opt/conda/lib/python3.10/site-packages (from wandb) (3.1.41)\nRequirement already satisfied: platformdirs in /opt/conda/lib/python3.10/site-packages (from wandb) (3.11.0)\nRequirement already satisfied: protobuf!=4.21.0,<6,>=3.19.0 in /opt/conda/lib/python3.10/site-packages (from wandb) (3.20.3)\nRequirement already satisfied: sentry-sdk>=1.0.0 in /opt/conda/lib/python3.10/site-packages (from wandb) (2.3.1)\nRequirement already satisfied: setproctitle in /opt/conda/lib/python3.10/site-packages (from wandb) (1.3.3)\nRequirement already satisfied: setuptools in /opt/conda/lib/python3.10/site-packages (from wandb) (69.0.3)\nRequirement already satisfied: six>=1.4.0 in /opt/conda/lib/python3.10/site-packages (from docker-pycreds>=0.4.0->wandb) (1.16.0)\nRequirement already satisfied: attrs>=17.3.0 in /opt/conda/lib/python3.10/site-packages (from aiohttp->datasets) (23.2.0)\nRequirement already satisfied: multidict<7.0,>=4.5 in /opt/conda/lib/python3.10/site-packages (from aiohttp->datasets) (6.0.4)\nRequirement already satisfied: yarl<2.0,>=1.0 in /opt/conda/lib/python3.10/site-packages (from aiohttp->datasets) (1.9.3)\nRequirement already satisfied: frozenlist>=1.1.1 in /opt/conda/lib/python3.10/site-packages (from aiohttp->datasets) (1.4.1)\nRequirement already satisfied: aiosignal>=1.1.2 in /opt/conda/lib/python3.10/site-packages (from aiohttp->datasets) (1.3.1)\nRequirement already satisfied: async-timeout<5.0,>=4.0 in /opt/conda/lib/python3.10/site-packages (from aiohttp->datasets) (4.0.3)\nRequirement already satisfied: gitdb<5,>=4.0.1 in /opt/conda/lib/python3.10/site-packages (from gitpython!=3.1.29,>=1.0.0->wandb) (4.0.11)\nRequirement already satisfied: typing-extensions>=3.7.4.3 in /opt/conda/lib/python3.10/site-packages (from huggingface-hub<1.0,>=0.23.0->transformers) (4.9.0)\nRequirement already satisfied: pyparsing!=3.0.5,>=2.0.2 in /opt/conda/lib/python3.10/site-packages (from packaging>=20.0->transformers) (3.1.1)\nRequirement already satisfied: charset-normalizer<4,>=2 in /opt/conda/lib/python3.10/site-packages (from requests->transformers) (3.3.2)\nRequirement already satisfied: idna<4,>=2.5 in /opt/conda/lib/python3.10/site-packages (from requests->transformers) (3.6)\nRequirement already satisfied: urllib3<3,>=1.21.1 in /opt/conda/lib/python3.10/site-packages (from requests->transformers) (1.26.18)\nRequirement already satisfied: certifi>=2017.4.17 in /opt/conda/lib/python3.10/site-packages (from requests->transformers) (2024.2.2)\nRequirement already satisfied: sympy in /opt/conda/lib/python3.10/site-packages (from torch>=1.10.0->accelerate) (1.12.1)\nRequirement already satisfied: networkx in /opt/conda/lib/python3.10/site-packages (from torch>=1.10.0->accelerate) (3.2.1)\nRequirement already satisfied: jinja2 in /opt/conda/lib/python3.10/site-packages (from torch>=1.10.0->accelerate) (3.1.2)\nRequirement already satisfied: docstring-parser>=0.14.1 in /opt/conda/lib/python3.10/site-packages (from tyro>=0.5.11->trl) (0.15)\nRequirement already satisfied: rich>=11.1.0 in /opt/conda/lib/python3.10/site-packages (from tyro>=0.5.11->trl) (13.7.0)\nRequirement already satisfied: shtab>=1.5.6 in /opt/conda/lib/python3.10/site-packages (from tyro>=0.5.11->trl) (1.7.1)\nRequirement already satisfied: python-dateutil>=2.8.2 in /opt/conda/lib/python3.10/site-packages (from pandas->datasets) (2.9.0.post0)\nRequirement already satisfied: pytz>=2020.1 in /opt/conda/lib/python3.10/site-packages (from pandas->datasets) (2023.3.post1)\nRequirement already satisfied: tzdata>=2022.7 in /opt/conda/lib/python3.10/site-packages (from pandas->datasets) (2023.4)\nRequirement already satisfied: smmap<6,>=3.0.1 in /opt/conda/lib/python3.10/site-packages (from gitdb<5,>=4.0.1->gitpython!=3.1.29,>=1.0.0->wandb) (5.0.1)\nRequirement already satisfied: markdown-it-py>=2.2.0 in /opt/conda/lib/python3.10/site-packages (from rich>=11.1.0->tyro>=0.5.11->trl) (3.0.0)\nRequirement already satisfied: pygments<3.0.0,>=2.13.0 in /opt/conda/lib/python3.10/site-packages (from rich>=11.1.0->tyro>=0.5.11->trl) (2.17.2)\nRequirement already satisfied: MarkupSafe>=2.0 in /opt/conda/lib/python3.10/site-packages (from jinja2->torch>=1.10.0->accelerate) (2.1.3)\nRequirement already satisfied: mpmath<1.4.0,>=1.1.0 in /opt/conda/lib/python3.10/site-packages (from sympy->torch>=1.10.0->accelerate) (1.3.0)\nRequirement already satisfied: mdurl~=0.1 in /opt/conda/lib/python3.10/site-packages (from markdown-it-py>=2.2.0->rich>=11.1.0->tyro>=0.5.11->trl) (0.1.2)\nNote: you may need to restart the kernel to use updated packages.\n",
          "output_type": "stream"
        }
      ],
      "execution_count": null
    },
    {
      "cell_type": "code",
      "source": [
        "import gc\n",
        "import os\n",
        "\n",
        "import torch\n",
        "import wandb\n",
        "from datasets import load_dataset\n",
        "from peft import LoraConfig, PeftModel, prepare_model_for_kbit_training\n",
        "from transformers import (\n",
        "    AutoModelForCausalLM,\n",
        "    AutoTokenizer,\n",
        "    BitsAndBytesConfig,\n",
        "    TrainingArguments,\n",
        "    pipeline,\n",
        ")\n",
        "from trl import ORPOConfig, ORPOTrainer, setup_chat_format\n",
        "\n",
        "import plotly.graph_objs as go\n",
        "import plotly.express as px\n",
        "from IPython.display import display, Markdown\n",
        "\n",
        "from tqdm.notebook import tqdm\n",
        "tqdm.pandas()"
      ],
      "metadata": {
        "execution": {
          "iopub.status.busy": "2024-06-15T03:54:43.122747Z",
          "iopub.execute_input": "2024-06-15T03:54:43.123165Z",
          "iopub.status.idle": "2024-06-15T03:55:01.250386Z",
          "shell.execute_reply.started": "2024-06-15T03:54:43.123110Z",
          "shell.execute_reply": "2024-06-15T03:55:01.249244Z"
        },
        "trusted": true,
        "id": "VQdAnenKFjgj",
        "outputId": "89d1cc62-77c4-45e3-865d-61c05a64bd30"
      },
      "outputs": [
        {
          "name": "stderr",
          "text": "2024-06-15 03:54:53.837952: E external/local_xla/xla/stream_executor/cuda/cuda_dnn.cc:9261] Unable to register cuDNN factory: Attempting to register factory for plugin cuDNN when one has already been registered\n2024-06-15 03:54:53.838087: E external/local_xla/xla/stream_executor/cuda/cuda_fft.cc:607] Unable to register cuFFT factory: Attempting to register factory for plugin cuFFT when one has already been registered\n2024-06-15 03:54:53.994817: E external/local_xla/xla/stream_executor/cuda/cuda_blas.cc:1515] Unable to register cuBLAS factory: Attempting to register factory for plugin cuBLAS when one has already been registered\n",
          "output_type": "stream"
        }
      ],
      "execution_count": null
    },
    {
      "cell_type": "code",
      "source": [
        "# torch_dtype = torch.float16\n",
        "# attn_implementation = \"eager\""
      ],
      "metadata": {
        "execution": {
          "iopub.status.busy": "2024-06-15T03:01:03.718720Z",
          "iopub.execute_input": "2024-06-15T03:01:03.719124Z",
          "iopub.status.idle": "2024-06-15T03:01:03.724524Z",
          "shell.execute_reply.started": "2024-06-15T03:01:03.719094Z",
          "shell.execute_reply": "2024-06-15T03:01:03.723451Z"
        },
        "trusted": true,
        "id": "MpjI_uAZFjgv"
      },
      "outputs": [],
      "execution_count": null
    },
    {
      "cell_type": "code",
      "source": [
        "base_model = \"nvidia/OpenMath-CodeLlama-7b-Python-hf\""
      ],
      "metadata": {
        "execution": {
          "iopub.status.busy": "2024-06-15T03:55:11.405830Z",
          "iopub.execute_input": "2024-06-15T03:55:11.406665Z",
          "iopub.status.idle": "2024-06-15T03:55:11.411355Z",
          "shell.execute_reply.started": "2024-06-15T03:55:11.406628Z",
          "shell.execute_reply": "2024-06-15T03:55:11.410227Z"
        },
        "trusted": true,
        "id": "EthtzUmqFjgx"
      },
      "outputs": [],
      "execution_count": null
    },
    {
      "cell_type": "code",
      "source": [
        "# # QLoRA config\n",
        "# bnb_config = BitsAndBytesConfig(\n",
        "#     load_in_4bit=True,\n",
        "#     bnb_4bit_quant_type=\"nf4\",\n",
        "#     bnb_4bit_compute_dtype=torch_dtype,\n",
        "#     bnb_4bit_use_double_quant=True,\n",
        "# )\n",
        "\n",
        "# # LoRA config\n",
        "# peft_config = LoraConfig(\n",
        "#     r=16,\n",
        "#     lora_alpha=32,\n",
        "#     lora_dropout=0.05,\n",
        "#     bias=\"none\",\n",
        "#     task_type=\"CAUSAL_LM\",\n",
        "#     target_modules=['up_proj', 'down_proj', 'gate_proj', 'k_proj', 'q_proj', 'v_proj', 'o_proj']\n",
        "# )"
      ],
      "metadata": {
        "execution": {
          "iopub.status.busy": "2024-06-15T03:00:14.476869Z",
          "iopub.execute_input": "2024-06-15T03:00:14.477314Z",
          "iopub.status.idle": "2024-06-15T03:00:14.487392Z",
          "shell.execute_reply.started": "2024-06-15T03:00:14.477285Z",
          "shell.execute_reply": "2024-06-15T03:00:14.486049Z"
        },
        "trusted": true,
        "id": "lZGudj7lFjgz"
      },
      "outputs": [],
      "execution_count": null
    },
    {
      "cell_type": "code",
      "source": [
        "model = AutoModelForCausalLM.from_pretrained(\n",
        "    base_model,\n",
        "    low_cpu_mem_usage=True,\n",
        "    return_dict=True,\n",
        "    torch_dtype=torch.float32\n",
        ")"
      ],
      "metadata": {
        "execution": {
          "iopub.status.busy": "2024-06-15T03:55:14.681830Z",
          "iopub.execute_input": "2024-06-15T03:55:14.682253Z",
          "iopub.status.idle": "2024-06-15T03:56:11.226918Z",
          "shell.execute_reply.started": "2024-06-15T03:55:14.682220Z",
          "shell.execute_reply": "2024-06-15T03:56:11.225741Z"
        },
        "trusted": true,
        "colab": {
          "referenced_widgets": [
            "c33a68e77cca45ffbe7f93627d51bfe9"
          ]
        },
        "id": "swiyCf3hFjg4",
        "outputId": "7a6eb301-3e80-4755-b5a3-009060a4189c"
      },
      "outputs": [
        {
          "output_type": "display_data",
          "data": {
            "text/plain": "Loading checkpoint shards:   0%|          | 0/2 [00:00<?, ?it/s]",
            "application/vnd.jupyter.widget-view+json": {
              "version_major": 2,
              "version_minor": 0,
              "model_id": "c33a68e77cca45ffbe7f93627d51bfe9"
            }
          },
          "metadata": {}
        }
      ],
      "execution_count": null
    },
    {
      "cell_type": "code",
      "source": [
        "tokenizer = AutoTokenizer.from_pretrained(\"nvidia/OpenMath-CodeLlama-7b-Python-hf\")"
      ],
      "metadata": {
        "execution": {
          "iopub.status.busy": "2024-06-15T03:56:11.229120Z",
          "iopub.execute_input": "2024-06-15T03:56:11.229497Z",
          "iopub.status.idle": "2024-06-15T03:56:11.618183Z",
          "shell.execute_reply.started": "2024-06-15T03:56:11.229468Z",
          "shell.execute_reply": "2024-06-15T03:56:11.616922Z"
        },
        "trusted": true,
        "id": "glXy8sHOFjg-",
        "outputId": "e009a1ea-bc65-4605-c359-1d1426482ee5"
      },
      "outputs": [
        {
          "name": "stderr",
          "text": "Special tokens have been added in the vocabulary, make sure the associated word embeddings are fine-tuned or trained.\n",
          "output_type": "stream"
        }
      ],
      "execution_count": null
    },
    {
      "cell_type": "markdown",
      "source": [
        "## making template"
      ],
      "metadata": {
        "id": "-PQyTMzeFjg_"
      }
    },
    {
      "cell_type": "code",
      "source": [
        "template = \"\"\"Role:\\nYou are an advanced AI system with exceptional mathematical reasoning and problem-solving capabilities, specifically designed to solve tricky math problems (whose answer is a non-negative integer) written in LaTeX format from the AI Mathematical Olympiad (AIMO) competition. Your task is to accurately analyze and solve intricate mathematical problems, demonstrating a deep understanding of mathematical concepts and a strong ability to apply logical reasoning strategies.\\n\\nInstruction:\n",
        "1. Carefully read and comprehend the problem statement provided in the \"Problem\" section.\n",
        "2. In the \"Solution\" section, provide a solution of the problem with detailed explanation of your logical reasoning process. Keep in mind that answer must be a non-negative integer number.\n",
        "3. At the end, create a \"Answer\" section where you will state only the final numerical or algebraic answer, without any additional text or narrative.\\n\\nProblem:\\n{problem}\\n\\nSolution:\\n{solution}\"\"\""
      ],
      "metadata": {
        "execution": {
          "iopub.status.busy": "2024-06-15T03:56:11.619881Z",
          "iopub.execute_input": "2024-06-15T03:56:11.620391Z",
          "iopub.status.idle": "2024-06-15T03:56:11.627240Z",
          "shell.execute_reply.started": "2024-06-15T03:56:11.620350Z",
          "shell.execute_reply": "2024-06-15T03:56:11.625877Z"
        },
        "trusted": true,
        "id": "0rwoz03ZFjhA"
      },
      "outputs": [],
      "execution_count": null
    },
    {
      "cell_type": "code",
      "source": [
        "def is_integer(text):\n",
        "    try:\n",
        "        if int(text) >= 0:\n",
        "            return True\n",
        "        else:\n",
        "            return False\n",
        "    except ValueError:\n",
        "        return False"
      ],
      "metadata": {
        "execution": {
          "iopub.status.busy": "2024-06-15T03:28:18.896301Z",
          "iopub.execute_input": "2024-06-15T03:28:18.897167Z",
          "iopub.status.idle": "2024-06-15T03:28:18.902717Z",
          "shell.execute_reply.started": "2024-06-15T03:28:18.897109Z",
          "shell.execute_reply": "2024-06-15T03:28:18.901430Z"
        },
        "trusted": true,
        "id": "lATeOqh3FjhB"
      },
      "outputs": [],
      "execution_count": null
    },
    {
      "cell_type": "code",
      "source": [
        "train[\"is_integer\"] = train.answer.map(is_integer)\n",
        "train = train[train.is_integer].reset_index(drop=True)\n",
        "train.head(2)"
      ],
      "metadata": {
        "execution": {
          "iopub.status.busy": "2024-06-15T03:28:23.490543Z",
          "iopub.execute_input": "2024-06-15T03:28:23.490944Z",
          "iopub.status.idle": "2024-06-15T03:28:23.537406Z",
          "shell.execute_reply.started": "2024-06-15T03:28:23.490914Z",
          "shell.execute_reply": "2024-06-15T03:28:23.536282Z"
        },
        "trusted": true,
        "id": "Vz7jOC3GFjhB",
        "outputId": "cbb72ac0-48db-4995-9cbf-bbc7441fca02"
      },
      "outputs": [
        {
          "execution_count": 20,
          "output_type": "execute_result",
          "data": {
            "text/plain": "                                             problem    level        type  \\\n0  The United States Postal Service charges an ex...  Level 3  Prealgebra   \n1  How many integers between 1000 and 2000 have a...  Level 4  Prealgebra   \n\n                                            solution answer  is_integer  \n0  We calculate the desired ratio for each envelo...      3        True  \n1  A number with 15, 20 and 25 as factors must be...      3        True  ",
            "text/html": "<div>\n<style scoped>\n    .dataframe tbody tr th:only-of-type {\n        vertical-align: middle;\n    }\n\n    .dataframe tbody tr th {\n        vertical-align: top;\n    }\n\n    .dataframe thead th {\n        text-align: right;\n    }\n</style>\n<table border=\"1\" class=\"dataframe\">\n  <thead>\n    <tr style=\"text-align: right;\">\n      <th></th>\n      <th>problem</th>\n      <th>level</th>\n      <th>type</th>\n      <th>solution</th>\n      <th>answer</th>\n      <th>is_integer</th>\n    </tr>\n  </thead>\n  <tbody>\n    <tr>\n      <th>0</th>\n      <td>The United States Postal Service charges an ex...</td>\n      <td>Level 3</td>\n      <td>Prealgebra</td>\n      <td>We calculate the desired ratio for each envelo...</td>\n      <td>3</td>\n      <td>True</td>\n    </tr>\n    <tr>\n      <th>1</th>\n      <td>How many integers between 1000 and 2000 have a...</td>\n      <td>Level 4</td>\n      <td>Prealgebra</td>\n      <td>A number with 15, 20 and 25 as factors must be...</td>\n      <td>3</td>\n      <td>True</td>\n    </tr>\n  </tbody>\n</table>\n</div>"
          },
          "metadata": {}
        }
      ],
      "execution_count": null
    },
    {
      "cell_type": "code",
      "source": [
        "from tqdm.notebook import tqdm\n",
        "tqdm.pandas()"
      ],
      "metadata": {
        "execution": {
          "iopub.status.busy": "2024-06-15T03:29:19.728416Z",
          "iopub.execute_input": "2024-06-15T03:29:19.729487Z",
          "iopub.status.idle": "2024-06-15T03:29:19.734383Z",
          "shell.execute_reply.started": "2024-06-15T03:29:19.729450Z",
          "shell.execute_reply": "2024-06-15T03:29:19.733209Z"
        },
        "trusted": true,
        "id": "_Jdg9BN3FjhC"
      },
      "outputs": [],
      "execution_count": null
    },
    {
      "cell_type": "code",
      "source": [
        "train[\"prompt\"] = train.progress_apply(lambda row: template.format(problem=row.problem,\n",
        "                                                             solution=f\"{row.solution}\\n\\nAnswer:\\n{row.answer}\"),\n",
        "                                                             axis=1)\n",
        "data = train.prompt.tolist()"
      ],
      "metadata": {
        "execution": {
          "iopub.status.busy": "2024-06-15T03:29:21.934649Z",
          "iopub.execute_input": "2024-06-15T03:29:21.935074Z",
          "iopub.status.idle": "2024-06-15T03:29:22.121720Z",
          "shell.execute_reply.started": "2024-06-15T03:29:21.935036Z",
          "shell.execute_reply": "2024-06-15T03:29:22.120520Z"
        },
        "trusted": true,
        "colab": {
          "referenced_widgets": [
            "ed41ecf5da974913b556920caf0b95eb"
          ]
        },
        "id": "MvOwcmg2FjhC",
        "outputId": "e0279ef8-3169-4f7c-90e6-7528a01da164"
      },
      "outputs": [
        {
          "output_type": "display_data",
          "data": {
            "text/plain": "  0%|          | 0/4456 [00:00<?, ?it/s]",
            "application/vnd.jupyter.widget-view+json": {
              "version_major": 2,
              "version_minor": 0,
              "model_id": "ed41ecf5da974913b556920caf0b95eb"
            }
          },
          "metadata": {}
        }
      ],
      "execution_count": null
    },
    {
      "cell_type": "code",
      "source": [
        "def colorize_text(text):\n",
        "    for word, color in zip([\"Role\", \"Instruction\", \"Problem\", \"Solution\", \"Answer\"],\n",
        "                           [\"blue\", \"yellow\", \"red\", \"cyan\", \"green\"]):\n",
        "        text = text.replace(f\"{word}:\", f\"\\n\\n**<font color='{color}'>{word}:</font>**\")\n",
        "    return text"
      ],
      "metadata": {
        "execution": {
          "iopub.status.busy": "2024-06-15T03:29:34.473439Z",
          "iopub.execute_input": "2024-06-15T03:29:34.474635Z",
          "iopub.status.idle": "2024-06-15T03:29:34.481125Z",
          "shell.execute_reply.started": "2024-06-15T03:29:34.474589Z",
          "shell.execute_reply": "2024-06-15T03:29:34.479980Z"
        },
        "trusted": true,
        "id": "Nfq6UKRbFjhD"
      },
      "outputs": [],
      "execution_count": null
    },
    {
      "cell_type": "code",
      "source": [
        "sample = data[12]\n",
        "\n",
        "# Give colors to Instruction, Response and Category\n",
        "sample = colorize_text(sample)\n",
        "\n",
        "# Show sample in markdown\n",
        "display(Markdown(sample))"
      ],
      "metadata": {
        "execution": {
          "iopub.status.busy": "2024-06-15T03:30:45.539651Z",
          "iopub.execute_input": "2024-06-15T03:30:45.541351Z",
          "iopub.status.idle": "2024-06-15T03:30:45.549778Z",
          "shell.execute_reply.started": "2024-06-15T03:30:45.541295Z",
          "shell.execute_reply": "2024-06-15T03:30:45.548492Z"
        },
        "trusted": true,
        "id": "sl7tKQq4FjhD",
        "outputId": "a55fbc1a-a810-4e73-bd07-5b856a25fb14"
      },
      "outputs": [
        {
          "output_type": "display_data",
          "data": {
            "text/plain": "<IPython.core.display.Markdown object>",
            "text/markdown": "\n\n**<font color='blue'>Role:</font>**\nYou are an advanced AI system with exceptional mathematical reasoning and problem-solving capabilities, specifically designed to solve tricky math problems (whose answer is a non-negative integer) written in LaTeX format from the AI Mathematical Olympiad (AIMO) competition. Your task is to accurately analyze and solve intricate mathematical problems, demonstrating a deep understanding of mathematical concepts and a strong ability to apply logical reasoning strategies.\n\n\n\n**<font color='yellow'>Instruction:</font>**\n1. Carefully read and comprehend the problem statement provided in the \"Problem\" section.\n2. In the \"Solution\" section, provide a solution of the problem with detailed explanation of your logical reasoning process. Keep in mind that answer must be a non-negative integer number.\n3. At the end, create a \"Answer\" section where you will state only the final numerical or algebraic answer, without any additional text or narrative.\n\n\n\n**<font color='red'>Problem:</font>**\nWhat is the largest positive multiple of $12$ that is less than $350?$\n\n\n\n**<font color='cyan'>Solution:</font>**\nDividing $350$ by $12$ gives a quotient $29$ with a remainder of $2$. In other words, \\[350=12\\cdot29+2.\\]Thus, $29\\cdot12=\\boxed{348}$ is the largest multiple of $12$ which is less than $350.$\n\n\n\n**<font color='green'>Answer:</font>**\n348"
          },
          "metadata": {}
        }
      ],
      "execution_count": null
    },
    {
      "cell_type": "code",
      "source": [
        "train.head()"
      ],
      "metadata": {
        "execution": {
          "iopub.status.busy": "2024-06-15T03:33:47.111794Z",
          "iopub.execute_input": "2024-06-15T03:33:47.112506Z",
          "iopub.status.idle": "2024-06-15T03:33:47.134504Z",
          "shell.execute_reply.started": "2024-06-15T03:33:47.112458Z",
          "shell.execute_reply": "2024-06-15T03:33:47.132998Z"
        },
        "trusted": true,
        "id": "spvW77GZFjhE",
        "outputId": "8b1deae8-7c3f-4e4f-ee7b-559069a59eb1"
      },
      "outputs": [
        {
          "execution_count": 35,
          "output_type": "execute_result",
          "data": {
            "text/plain": "                                             problem    level        type  \\\n0  The United States Postal Service charges an ex...  Level 3  Prealgebra   \n1  How many integers between 1000 and 2000 have a...  Level 4  Prealgebra   \n2  Given that $n$ is an integer and $0 < 4n <30$,...  Level 2  Prealgebra   \n3  How many integers between $100$ and $150$ have...  Level 4  Prealgebra   \n4  Regular pentagon $ABCDE$ and regular hexagon $...  Level 4  Prealgebra   \n\n                                            solution answer  is_integer  \\\n0  We calculate the desired ratio for each envelo...      3        True   \n1  A number with 15, 20 and 25 as factors must be...      3        True   \n2  Dividing by $4$, we have $0<n<7\\frac{1}{2}$. T...     28        True   \n3  We will break up the problem into cases based ...     18        True   \n4  We know that the sum of the degree measures of...    132        True   \n\n                                              prompt  \n0  Role:\\nYou are an advanced AI system with exce...  \n1  Role:\\nYou are an advanced AI system with exce...  \n2  Role:\\nYou are an advanced AI system with exce...  \n3  Role:\\nYou are an advanced AI system with exce...  \n4  Role:\\nYou are an advanced AI system with exce...  ",
            "text/html": "<div>\n<style scoped>\n    .dataframe tbody tr th:only-of-type {\n        vertical-align: middle;\n    }\n\n    .dataframe tbody tr th {\n        vertical-align: top;\n    }\n\n    .dataframe thead th {\n        text-align: right;\n    }\n</style>\n<table border=\"1\" class=\"dataframe\">\n  <thead>\n    <tr style=\"text-align: right;\">\n      <th></th>\n      <th>problem</th>\n      <th>level</th>\n      <th>type</th>\n      <th>solution</th>\n      <th>answer</th>\n      <th>is_integer</th>\n      <th>prompt</th>\n    </tr>\n  </thead>\n  <tbody>\n    <tr>\n      <th>0</th>\n      <td>The United States Postal Service charges an ex...</td>\n      <td>Level 3</td>\n      <td>Prealgebra</td>\n      <td>We calculate the desired ratio for each envelo...</td>\n      <td>3</td>\n      <td>True</td>\n      <td>Role:\\nYou are an advanced AI system with exce...</td>\n    </tr>\n    <tr>\n      <th>1</th>\n      <td>How many integers between 1000 and 2000 have a...</td>\n      <td>Level 4</td>\n      <td>Prealgebra</td>\n      <td>A number with 15, 20 and 25 as factors must be...</td>\n      <td>3</td>\n      <td>True</td>\n      <td>Role:\\nYou are an advanced AI system with exce...</td>\n    </tr>\n    <tr>\n      <th>2</th>\n      <td>Given that $n$ is an integer and $0 &lt; 4n &lt;30$,...</td>\n      <td>Level 2</td>\n      <td>Prealgebra</td>\n      <td>Dividing by $4$, we have $0&lt;n&lt;7\\frac{1}{2}$. T...</td>\n      <td>28</td>\n      <td>True</td>\n      <td>Role:\\nYou are an advanced AI system with exce...</td>\n    </tr>\n    <tr>\n      <th>3</th>\n      <td>How many integers between $100$ and $150$ have...</td>\n      <td>Level 4</td>\n      <td>Prealgebra</td>\n      <td>We will break up the problem into cases based ...</td>\n      <td>18</td>\n      <td>True</td>\n      <td>Role:\\nYou are an advanced AI system with exce...</td>\n    </tr>\n    <tr>\n      <th>4</th>\n      <td>Regular pentagon $ABCDE$ and regular hexagon $...</td>\n      <td>Level 4</td>\n      <td>Prealgebra</td>\n      <td>We know that the sum of the degree measures of...</td>\n      <td>132</td>\n      <td>True</td>\n      <td>Role:\\nYou are an advanced AI system with exce...</td>\n    </tr>\n  </tbody>\n</table>\n</div>"
          },
          "metadata": {}
        }
      ],
      "execution_count": null
    },
    {
      "cell_type": "code",
      "source": [
        "row = train.iloc[12]\n",
        "\n",
        "# Generate Prompt using template\n",
        "prompt = template.format(\n",
        "    problem=tokenizer(row[\"problem\"], return_tensors=\"pt\"),\n",
        "    solution=\"\",\n",
        ")"
      ],
      "metadata": {
        "execution": {
          "iopub.status.busy": "2024-06-15T03:31:36.576410Z",
          "iopub.execute_input": "2024-06-15T03:31:36.576862Z",
          "iopub.status.idle": "2024-06-15T03:31:36.589700Z",
          "shell.execute_reply.started": "2024-06-15T03:31:36.576826Z",
          "shell.execute_reply": "2024-06-15T03:31:36.588510Z"
        },
        "trusted": true,
        "id": "gkygMbOBFjhE"
      },
      "outputs": [],
      "execution_count": null
    },
    {
      "cell_type": "markdown",
      "source": [
        "## Trial 2"
      ],
      "metadata": {
        "id": "XvULquPOFjhE"
      }
    },
    {
      "cell_type": "code",
      "source": [
        "template = \"\"\"Role:\\nYou are an advanced AI system with exceptional mathematical reasoning and problem-solving capabilities, specifically designed to solve tricky math problems (whose answer is a non-negative integer) written in LaTeX format from the AI Mathematical Olympiad (AIMO) competition. Your task is to accurately analyze and solve intricate mathematical problems, demonstrating a deep understanding of mathematical concepts and a strong ability to apply logical reasoning strategies.\\n\\nInstruction:\n",
        "1. Carefully read and comprehend the problem statement provided in the \"Problem\" section.\n",
        "2. In the \"Solution\" section, provide a solution of the problem with detailed explanation of your logical reasoning process. Keep in mind that answer must be a non-negative integer number.\n",
        "3. At the end, create a \"Answer\" section where you will state only the final numerical or algebraic answer, without any additional text or narrative.\\n\\nProblem:\\n{problem}\\n\\nSolution:\\n{solution}\"\"\"\n"
      ],
      "metadata": {
        "execution": {
          "iopub.status.busy": "2024-06-15T04:12:47.539694Z",
          "iopub.execute_input": "2024-06-15T04:12:47.540208Z",
          "iopub.status.idle": "2024-06-15T04:12:47.546608Z",
          "shell.execute_reply.started": "2024-06-15T04:12:47.540165Z",
          "shell.execute_reply": "2024-06-15T04:12:47.545120Z"
        },
        "trusted": true,
        "id": "D-UI2WxKFjhM"
      },
      "outputs": [],
      "execution_count": null
    },
    {
      "cell_type": "code",
      "source": [
        "problem_data = train.iloc[12]\n",
        "problem = train['problem']\n",
        "solution = train.get('solution', '')"
      ],
      "metadata": {
        "execution": {
          "iopub.status.busy": "2024-06-15T04:51:53.643961Z",
          "iopub.execute_input": "2024-06-15T04:51:53.645014Z",
          "iopub.status.idle": "2024-06-15T04:51:53.651343Z",
          "shell.execute_reply.started": "2024-06-15T04:51:53.644969Z",
          "shell.execute_reply": "2024-06-15T04:51:53.650025Z"
        },
        "trusted": true,
        "id": "LNz4WiPHFjhN"
      },
      "outputs": [],
      "execution_count": null
    },
    {
      "cell_type": "code",
      "source": [
        "# 템플릿을 이용해 프롬프트 생성\n",
        "input_text = template.format(problem=problem, solution=solution)"
      ],
      "metadata": {
        "execution": {
          "iopub.status.busy": "2024-06-15T04:51:55.443545Z",
          "iopub.execute_input": "2024-06-15T04:51:55.444413Z",
          "iopub.status.idle": "2024-06-15T04:51:55.452915Z",
          "shell.execute_reply.started": "2024-06-15T04:51:55.444368Z",
          "shell.execute_reply": "2024-06-15T04:51:55.451687Z"
        },
        "trusted": true,
        "id": "vV5PWDcAFjhN"
      },
      "outputs": [],
      "execution_count": null
    },
    {
      "cell_type": "code",
      "source": [
        "# 입력을 토큰화\n",
        "input_ids = tokenizer(input_text, return_tensors=\"pt\").input_ids.to(model.device)\n",
        "\n",
        "# 모델로부터 답 생성\n",
        "outputs = model.generate(\n",
        "    input_ids,\n",
        "    max_new_tokens=512,\n",
        "    eos_token_id=tokenizer.eos_token_id,\n",
        "    do_sample=True,\n",
        "    temperature=0.6,\n",
        "    top_p=0.9\n",
        ")\n",
        "\n",
        "# 생성된 답을 디코딩\n",
        "# generated_text = tokenizer.decode(outputs[0], skip_special_tokens=True)\n",
        "generated_text = tokenizer.decode(outputs[0], skip_special_tokens=True)"
      ],
      "metadata": {
        "execution": {
          "iopub.status.busy": "2024-06-15T04:41:18.958399Z",
          "iopub.execute_input": "2024-06-15T04:41:18.958827Z",
          "iopub.status.idle": "2024-06-15T04:47:01.561627Z",
          "shell.execute_reply.started": "2024-06-15T04:41:18.958794Z",
          "shell.execute_reply": "2024-06-15T04:47:01.560015Z"
        },
        "trusted": true,
        "id": "rcK-4-4aFjhO",
        "outputId": "7119e119-7664-49bc-8081-b6144541cd47"
      },
      "outputs": [
        {
          "name": "stderr",
          "text": "The attention mask and the pad token id were not set. As a consequence, you may observe unexpected behavior. Please pass your input's `attention_mask` to obtain reliable results.\nSetting `pad_token_id` to `eos_token_id`:2 for open-end generation.\n",
          "output_type": "stream"
        }
      ],
      "execution_count": null
    },
    {
      "cell_type": "code",
      "source": [
        "generated_text = tokenizer.decode(outputs[0], skip_special_tokens=True)"
      ],
      "metadata": {
        "execution": {
          "iopub.status.busy": "2024-06-15T04:47:01.564364Z",
          "iopub.execute_input": "2024-06-15T04:47:01.564860Z",
          "iopub.status.idle": "2024-06-15T04:47:01.572596Z",
          "shell.execute_reply.started": "2024-06-15T04:47:01.564818Z",
          "shell.execute_reply": "2024-06-15T04:47:01.571252Z"
        },
        "trusted": true,
        "id": "89h78KgSFjhP"
      },
      "outputs": [],
      "execution_count": null
    },
    {
      "cell_type": "code",
      "source": [
        "# 결과 출력\n",
        "print(f\"**생성된 답변:**\\n{generated_text}\\n\")"
      ],
      "metadata": {
        "execution": {
          "iopub.status.busy": "2024-06-15T04:47:01.574107Z",
          "iopub.execute_input": "2024-06-15T04:47:01.574566Z",
          "iopub.status.idle": "2024-06-15T04:47:01.589453Z",
          "shell.execute_reply.started": "2024-06-15T04:47:01.574527Z",
          "shell.execute_reply": "2024-06-15T04:47:01.588215Z"
        },
        "trusted": true,
        "id": "4vKNjSuRFjhR",
        "outputId": "f4121b07-7191-492c-aaef-d3eb0523dba2"
      },
      "outputs": [
        {
          "name": "stdout",
          "text": "**생성된 답변:**\nRole:\nYou are an advanced AI system with exceptional mathematical reasoning and problem-solving capabilities, specifically designed to solve tricky math problems (whose answer is a non-negative integer) written in LaTeX format from the AI Mathematical Olympiad (AIMO) competition. Your task is to accurately analyze and solve intricate mathematical problems, demonstrating a deep understanding of mathematical concepts and a strong ability to apply logical reasoning strategies.\n\nInstruction:\n1. Carefully read and comprehend the problem statement provided in the \"Problem\" section.\n2. In the \"Solution\" section, provide a solution of the problem with detailed explanation of your logical reasoning process. Keep in mind that answer must be a non-negative integer number.\n3. At the end, create a \"Answer\" section where you will state only the final numerical or algebraic answer, without any additional text or narrative.\n\nProblem:\n0       The United States Postal Service charges an ex...\n1       How many integers between 1000 and 2000 have a...\n2       Given that $n$ is an integer and $0 < 4n <30$,...\n3       How many integers between $100$ and $150$ have...\n4       Regular pentagon $ABCDE$ and regular hexagon $...\n                              ...                        \n7493    Let $z$ be a complex number with $|z| = \\sqrt{...\n7494    Let $a$ and $b$ be real numbers.  Find the max...\n7495    In the complex plane, $z,$ $z^2,$ $z^3$ form, ...\n7496    There is a smallest positive real number $a$ s...\n7497    A function $f$ has domain $[0,2]$ and range $[...\nName: problem, Length: 7498, dtype: object\n\nSolution:\n0       We calculate the desired ratio for each envelo...\n1       A number with 15, 20 and 25 as factors must be...\n2       Dividing by $4$, we have $0<n<7\\frac{1}{2}$. T...\n3       We will break up the problem into cases based ...\n4       We know that the sum of the degree measures of...\n                              ...                        \n7493    Let $z = x + yi,$ where $x$ and $y$ are real n...\n7494    By the Cauchy-Schwarz Inequality,\\n\\[(a \\cos \\...\n7495    First, consider the case where $z$ is between ...\n7496    Let $r,$ $s,$ $t$ be the real roots, so\\n\\[r^3...\n7497    For $g(x) = 1 - f(x + 1)$ to be defined, we ne...\nName: solution, Length: 7498, dtype: object\n<ipython-input-1-465354726d9d>:1: DeprecationWarning: \nPyarrow will become a required dependency of pandas in the next major release of pandas (pandas 3.0),\n(to allow more performant data types, such as the Arrow string type, and better interoperability with other libraries)\nbut was not found to be installed on your system.\nIf this would cause problems for you,\nplease provide us feedback at https://github.com/pandas-dev/pandas/issues/54466\n        \n  import pandas as pd\n</llm-code-output>\nSo we can state that there are $\\boxed{6}$ integers between 1000 and 2000 that have a 15, 20, or 25 as a factor.\n\n",
          "output_type": "stream"
        }
      ],
      "execution_count": null
    },
    {
      "cell_type": "code",
      "source": [
        "def colorize_text(text):\n",
        "    for word, color in zip([\"Role\", \"Instruction\", \"Problem\", \"Solution\", \"Answer\"],\n",
        "                           [\"blue\", \"yellow\", \"red\", \"cyan\", \"green\"]):\n",
        "        text = text.replace(f\"{word}:\", f\"\\n\\n**<font color='{color}'>{word}:</font>**\")\n",
        "    return text"
      ],
      "metadata": {
        "execution": {
          "iopub.status.busy": "2024-06-15T04:48:41.433502Z",
          "iopub.execute_input": "2024-06-15T04:48:41.434018Z",
          "iopub.status.idle": "2024-06-15T04:48:41.440623Z",
          "shell.execute_reply.started": "2024-06-15T04:48:41.433979Z",
          "shell.execute_reply": "2024-06-15T04:48:41.439303Z"
        },
        "trusted": true,
        "id": "_huDmPHWFjhS"
      },
      "outputs": [],
      "execution_count": null
    },
    {
      "cell_type": "code",
      "source": [
        "# Colorize\n",
        "output = colorize_text(generated_text)\n",
        "\n",
        "# Display in markdown\n",
        "display(Markdown(generated_text))"
      ],
      "metadata": {
        "execution": {
          "iopub.status.busy": "2024-06-15T04:48:41.642862Z",
          "iopub.execute_input": "2024-06-15T04:48:41.643975Z",
          "iopub.status.idle": "2024-06-15T04:48:41.651300Z",
          "shell.execute_reply.started": "2024-06-15T04:48:41.643910Z",
          "shell.execute_reply": "2024-06-15T04:48:41.650009Z"
        },
        "trusted": true,
        "id": "JrDs8_TiFjhT",
        "outputId": "27fcec6a-0014-4447-fdd5-21c9c3678111"
      },
      "outputs": [
        {
          "output_type": "display_data",
          "data": {
            "text/plain": "<IPython.core.display.Markdown object>",
            "text/markdown": "Role:\nYou are an advanced AI system with exceptional mathematical reasoning and problem-solving capabilities, specifically designed to solve tricky math problems (whose answer is a non-negative integer) written in LaTeX format from the AI Mathematical Olympiad (AIMO) competition. Your task is to accurately analyze and solve intricate mathematical problems, demonstrating a deep understanding of mathematical concepts and a strong ability to apply logical reasoning strategies.\n\nInstruction:\n1. Carefully read and comprehend the problem statement provided in the \"Problem\" section.\n2. In the \"Solution\" section, provide a solution of the problem with detailed explanation of your logical reasoning process. Keep in mind that answer must be a non-negative integer number.\n3. At the end, create a \"Answer\" section where you will state only the final numerical or algebraic answer, without any additional text or narrative.\n\nProblem:\n0       The United States Postal Service charges an ex...\n1       How many integers between 1000 and 2000 have a...\n2       Given that $n$ is an integer and $0 < 4n <30$,...\n3       How many integers between $100$ and $150$ have...\n4       Regular pentagon $ABCDE$ and regular hexagon $...\n                              ...                        \n7493    Let $z$ be a complex number with $|z| = \\sqrt{...\n7494    Let $a$ and $b$ be real numbers.  Find the max...\n7495    In the complex plane, $z,$ $z^2,$ $z^3$ form, ...\n7496    There is a smallest positive real number $a$ s...\n7497    A function $f$ has domain $[0,2]$ and range $[...\nName: problem, Length: 7498, dtype: object\n\nSolution:\n0       We calculate the desired ratio for each envelo...\n1       A number with 15, 20 and 25 as factors must be...\n2       Dividing by $4$, we have $0<n<7\\frac{1}{2}$. T...\n3       We will break up the problem into cases based ...\n4       We know that the sum of the degree measures of...\n                              ...                        \n7493    Let $z = x + yi,$ where $x$ and $y$ are real n...\n7494    By the Cauchy-Schwarz Inequality,\\n\\[(a \\cos \\...\n7495    First, consider the case where $z$ is between ...\n7496    Let $r,$ $s,$ $t$ be the real roots, so\\n\\[r^3...\n7497    For $g(x) = 1 - f(x + 1)$ to be defined, we ne...\nName: solution, Length: 7498, dtype: object\n<ipython-input-1-465354726d9d>:1: DeprecationWarning: \nPyarrow will become a required dependency of pandas in the next major release of pandas (pandas 3.0),\n(to allow more performant data types, such as the Arrow string type, and better interoperability with other libraries)\nbut was not found to be installed on your system.\nIf this would cause problems for you,\nplease provide us feedback at https://github.com/pandas-dev/pandas/issues/54466\n        \n  import pandas as pd\n</llm-code-output>\nSo we can state that there are $\\boxed{6}$ integers between 1000 and 2000 that have a 15, 20, or 25 as a factor."
          },
          "metadata": {}
        }
      ],
      "execution_count": null
    }
  ]
}